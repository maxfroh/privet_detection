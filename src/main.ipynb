{
 "cells": [
  {
   "cell_type": "code",
   "execution_count": null,
   "id": "77f1da49",
   "metadata": {
    "vscode": {
     "languageId": "plaintext"
    }
   },
   "outputs": [],
   "source": [
    "# imports\n",
    "\n",
    "import argparse\n",
    "import random\n",
    "import os\n",
    "import sys\n",
    "import time\n",
    "import pickle\n",
    "import numpy as np\n",
    "import matplotlib.pyplot as plt\n",
    "\n",
    "from os import PathLike\n",
    "from tqdm import tqdm\n",
    "from operator import itemgetter\n",
    "from sklearn.model_selection import KFold\n",
    "\n",
    "import torch\n",
    "from torch.utils.data import DataLoader, Subset\n",
    "from torch.optim import Optimizer, SGD\n",
    "from torch.optim.lr_scheduler import LRScheduler, StepLR\n",
    "from torchvision.transforms import v2 as T\n",
    "\n",
    "from models.fast_rcnn import FasterRCNNResNet101\n",
    "from data_parsing.dataloader import PrivetDataset\n",
    "from data_parsing.graph_maker import make_graphs_and_vis\n",
    "from torch_references.utils import collate_fn\n",
    "from torch_references.engine import train_one_epoch, evaluate"
   ]
  }
 ],
 "metadata": {
  "language_info": {
   "name": "python"
  }
 },
 "nbformat": 4,
 "nbformat_minor": 5
}
