{
  "cells": [
    {
      "cell_type": "code",
      "source": [
        "from google.colab import drive\n",
        "drive.mount(\"/content/drive\")"
      ],
      "metadata": {
        "id": "NiS_lN7VSiUF",
        "outputId": "737b1dfa-86f1-46ed-9eb8-d7f1029981da",
        "colab": {
          "base_uri": "https://localhost:8080/"
        }
      },
      "id": "NiS_lN7VSiUF",
      "execution_count": 23,
      "outputs": [
        {
          "output_type": "stream",
          "name": "stdout",
          "text": [
            "Drive already mounted at /content/drive; to attempt to forcibly remount, call drive.mount(\"/content/drive\", force_remount=True).\n"
          ]
        }
      ]
    },
    {
      "cell_type": "code",
      "source": [
        "!git clone https://github.com/maxfroh/privet_detection"
      ],
      "metadata": {
        "id": "zQtl2U_8Oz8g"
      },
      "id": "zQtl2U_8Oz8g",
      "execution_count": null,
      "outputs": []
    },
    {
      "cell_type": "code",
      "source": [
        "cd privet_detection/src"
      ],
      "metadata": {
        "id": "FUUefQUZPQ3i",
        "outputId": "f6a6b38b-a22c-4f9c-e38d-ad5c6fbb4f72",
        "colab": {
          "base_uri": "https://localhost:8080/"
        }
      },
      "id": "FUUefQUZPQ3i",
      "execution_count": 38,
      "outputs": [
        {
          "output_type": "stream",
          "name": "stdout",
          "text": [
            "/content/privet_detection/src\n"
          ]
        }
      ]
    },
    {
      "cell_type": "code",
      "source": [
        "!python main.py -m faster_rcnn --img_dir \"/content/drive/MyDrive/Privet/data/pruned/images\" --labels_dir \"/content/drive/MyDrive/Privet/data/pruned/labels\" --results_dir \"/content/drive/MyDrive/Privet/data/pruned/results\" --channels rgb --num_epochs 100 -bs 2 4 -lr 0.01 --scheduler_step_size 30 --scheduler_gamma 0.1 --kfold 5"
      ],
      "metadata": {
        "id": "YS-dsqqQTM0r",
        "outputId": "e1ccee93-9b10-4375-e6ed-10e0beb06869",
        "colab": {
          "base_uri": "https://localhost:8080/"
        }
      },
      "id": "YS-dsqqQTM0r",
      "execution_count": null,
      "outputs": [
        {
          "output_type": "stream",
          "name": "stdout",
          "text": [
            "Traceback (most recent call last):\n",
            "  File \"/content/privet_detection/src/main.ipynb\", line 5, in <module>\n",
            "    \"execution_count\": null,\n",
            "                       ^^^^\n",
            "NameError: name 'null' is not defined\n"
          ]
        }
      ]
    }
  ],
  "metadata": {
    "language_info": {
      "name": "python"
    },
    "colab": {
      "provenance": []
    },
    "kernelspec": {
      "name": "python3",
      "display_name": "Python 3"
    }
  },
  "nbformat": 4,
  "nbformat_minor": 5
}